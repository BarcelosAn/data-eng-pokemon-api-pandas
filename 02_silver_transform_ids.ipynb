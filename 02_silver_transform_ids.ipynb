{
 "cells": [
  {
   "cell_type": "code",
   "execution_count": null,
   "metadata": {
    "application/vnd.databricks.v1+cell": {
     "cellMetadata": {
      "byteLimit": 2048000,
      "rowLimit": 10000
     },
     "inputWidgets": {},
     "nuid": "54a29223-1331-47f4-ada6-da07b583ee67",
     "showTitle": false,
     "tableResultSettingsMap": {},
     "title": ""
    }
   },
   "outputs": [],
   "source": [
    "import pandas as pd\n",
    "import re"
   ]
  },
  {
   "cell_type": "code",
   "execution_count": 10,
   "metadata": {
    "application/vnd.databricks.v1+cell": {
     "cellMetadata": {
      "byteLimit": 2048000,
      "rowLimit": 10000
     },
     "inputWidgets": {},
     "nuid": "ab817c74-d2eb-4350-81c5-0ce45d3764fc",
     "showTitle": false,
     "tableResultSettingsMap": {},
     "title": ""
    }
   },
   "outputs": [
    {
     "name": "stdout",
     "output_type": "stream",
     "text": [
      "name          object\n",
      "url           object\n",
      "pokemon_id     int64\n",
      "dtype: object\n"
     ]
    }
   ],
   "source": [
    "# Caminho para o arquivo JSON\n",
    "input_path = \"raw/raw_pokemon_list.json\"\n",
    "\n",
    "# Lê o arquivo JSON (multiLine=True não é necessário no pandas, mas precisa estar bem formatado)\n",
    "df_raw_pokemons = pd.read_json(input_path)\n",
    "\n",
    "\n",
    "# Função para extrair o ID do Pokémon da URL\n",
    "def extract_pokemon_id(url):\n",
    "    match = re.search(r'/pokemon/(\\d+)/', url)\n",
    "    return int(match.group(1)) if match else None\n",
    "\n",
    "# Aplica a função para extrair os IDs\n",
    "df_raw_pokemons['pokemon_id'] = df_raw_pokemons['url'].apply(extract_pokemon_id)\n",
    "\n",
    "\n",
    "# Exibe os primeiros registros e o schema (tipos de dados)\n",
    "df_raw_pokemons.head()\n",
    "print(df_raw_pokemons.dtypes)\n",
    "\n"
   ]
  },
  {
   "cell_type": "code",
   "execution_count": null,
   "metadata": {
    "application/vnd.databricks.v1+cell": {
     "cellMetadata": {
      "byteLimit": 2048000,
      "rowLimit": 10000
     },
     "inputWidgets": {},
     "nuid": "af09b664-f6cc-4fa4-b995-c6f26adcf06c",
     "showTitle": false,
     "tableResultSettingsMap": {},
     "title": ""
    }
   },
   "outputs": [
    {
     "name": "stdout",
     "output_type": "stream",
     "text": [
      "71839 bytes.\n"
     ]
    }
   ],
   "source": [
    "# Salva em CSV\n",
    "output_path = \"silver/silver_pokemon_ids.csv\"\n",
    "df_raw_pokemons.to_csv(output_path, index=False)\n",
    "\n",
    "import os\n",
    "# Obtém o tamanho do arquivo em bytes\n",
    "file_size_bytes = os.path.getsize(output_path)\n",
    "\n",
    "print(f\"{file_size_bytes} bytes.\")"
   ]
  }
 ],
 "metadata": {
  "application/vnd.databricks.v1+notebook": {
   "computePreferences": null,
   "dashboards": [],
   "environmentMetadata": {
    "base_environment": "",
    "environment_version": "1"
   },
   "inputWidgetPreferences": null,
   "language": "python",
   "notebookMetadata": {
    "mostRecentlyExecutedCommandWithImplicitDF": {
     "commandId": -1,
     "dataframes": [
      "_sqldf"
     ]
    },
    "pythonIndentUnit": 4
   },
   "notebookName": "02_silver_transform_ids",
   "widgets": {}
  },
  "kernelspec": {
   "display_name": "Python 3",
   "language": "python",
   "name": "python3"
  },
  "language_info": {
   "codemirror_mode": {
    "name": "ipython",
    "version": 3
   },
   "file_extension": ".py",
   "mimetype": "text/x-python",
   "name": "python",
   "nbconvert_exporter": "python",
   "pygments_lexer": "ipython3",
   "version": "3.13.1"
  }
 },
 "nbformat": 4,
 "nbformat_minor": 0
}
